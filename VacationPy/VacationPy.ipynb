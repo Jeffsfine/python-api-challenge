{
 "cells": [
  {
   "cell_type": "markdown",
   "metadata": {},
   "source": [
    "# VacationPy\n",
    "----\n",
    "\n",
    "#### Note\n",
    "* Keep an eye on your API usage. Use https://developers.google.com/maps/reporting/gmp-reporting as reference for how to monitor your usage and billing.\n",
    "\n",
    "* Instructions have been included for each segment. You do not have to follow them exactly, but they are included to help you think through the steps."
   ]
  },
  {
   "cell_type": "code",
   "execution_count": 1,
   "metadata": {},
   "outputs": [],
   "source": [
    "# Dependencies and Setup\n",
    "import matplotlib.pyplot as plt\n",
    "import pandas as pd\n",
    "import numpy as np\n",
    "import requests\n",
    "import gmaps\n",
    "import os\n",
    "\n",
    "# Import API key\n",
    "from config import g_key"
   ]
  },
  {
   "cell_type": "markdown",
   "metadata": {},
   "source": [
    "### Store Part I results into DataFrame\n",
    "* Load the csv exported in Part I to a DataFrame"
   ]
  },
  {
   "cell_type": "code",
   "execution_count": 3,
   "metadata": {},
   "outputs": [
    {
     "output_type": "execute_result",
     "data": {
      "text/plain": [
       "          City      Lat       lng  Max Temp  Humidity  Cloudiness  Wind Speed  \\\n",
       "0      rikitea -23.1203 -134.9692     79.11      68.0       100.0       17.56   \n",
       "1     tessalit  20.1986    1.0114     88.03       7.0         0.0        6.64   \n",
       "2  bandarbeyla   9.4942   50.8122     82.92      73.0       100.0        7.38   \n",
       "3       barrow  71.2906 -156.7887     19.40      79.0         1.0        3.44   \n",
       "4      salalah  17.0151   54.0924     82.40      74.0        40.0        5.75   \n",
       "\n",
       "  Country          Date  \n",
       "0      PF  1.619215e+09  \n",
       "1      ML  1.619215e+09  \n",
       "2      SO  1.619215e+09  \n",
       "3      US  1.619215e+09  \n",
       "4      OM  1.619215e+09  "
      ],
      "text/html": "<div>\n<style scoped>\n    .dataframe tbody tr th:only-of-type {\n        vertical-align: middle;\n    }\n\n    .dataframe tbody tr th {\n        vertical-align: top;\n    }\n\n    .dataframe thead th {\n        text-align: right;\n    }\n</style>\n<table border=\"1\" class=\"dataframe\">\n  <thead>\n    <tr style=\"text-align: right;\">\n      <th></th>\n      <th>City</th>\n      <th>Lat</th>\n      <th>lng</th>\n      <th>Max Temp</th>\n      <th>Humidity</th>\n      <th>Cloudiness</th>\n      <th>Wind Speed</th>\n      <th>Country</th>\n      <th>Date</th>\n    </tr>\n  </thead>\n  <tbody>\n    <tr>\n      <th>0</th>\n      <td>rikitea</td>\n      <td>-23.1203</td>\n      <td>-134.9692</td>\n      <td>79.11</td>\n      <td>68.0</td>\n      <td>100.0</td>\n      <td>17.56</td>\n      <td>PF</td>\n      <td>1.619215e+09</td>\n    </tr>\n    <tr>\n      <th>1</th>\n      <td>tessalit</td>\n      <td>20.1986</td>\n      <td>1.0114</td>\n      <td>88.03</td>\n      <td>7.0</td>\n      <td>0.0</td>\n      <td>6.64</td>\n      <td>ML</td>\n      <td>1.619215e+09</td>\n    </tr>\n    <tr>\n      <th>2</th>\n      <td>bandarbeyla</td>\n      <td>9.4942</td>\n      <td>50.8122</td>\n      <td>82.92</td>\n      <td>73.0</td>\n      <td>100.0</td>\n      <td>7.38</td>\n      <td>SO</td>\n      <td>1.619215e+09</td>\n    </tr>\n    <tr>\n      <th>3</th>\n      <td>barrow</td>\n      <td>71.2906</td>\n      <td>-156.7887</td>\n      <td>19.40</td>\n      <td>79.0</td>\n      <td>1.0</td>\n      <td>3.44</td>\n      <td>US</td>\n      <td>1.619215e+09</td>\n    </tr>\n    <tr>\n      <th>4</th>\n      <td>salalah</td>\n      <td>17.0151</td>\n      <td>54.0924</td>\n      <td>82.40</td>\n      <td>74.0</td>\n      <td>40.0</td>\n      <td>5.75</td>\n      <td>OM</td>\n      <td>1.619215e+09</td>\n    </tr>\n  </tbody>\n</table>\n</div>"
     },
     "metadata": {},
     "execution_count": 3
    }
   ],
   "source": [
    "\n",
    "# Load the csv exported in Part I to a DataFrame\n",
    "\n",
    "weather_csv_file = \"../output_data/city_weather_data.csv\"\n",
    "\n",
    "weather_df = pd.read_csv(weather_csv_file)\n",
    "\n",
    "weather_df.head()"
   ]
  },
  {
   "cell_type": "markdown",
   "metadata": {},
   "source": [
    "### Humidity Heatmap\n",
    "* Configure gmaps.\n",
    "* Use the Lat and Lng as locations and Humidity as the weight.\n",
    "* Add Heatmap layer to map."
   ]
  },
  {
   "cell_type": "code",
   "execution_count": 5,
   "metadata": {},
   "outputs": [
    {
     "output_type": "display_data",
     "data": {
      "text/plain": "Figure(layout=FigureLayout(height='420px'))",
      "application/vnd.jupyter.widget-view+json": {
       "version_major": 2,
       "version_minor": 0,
       "model_id": "5ddc5425f0db42859a6184e04845bca0"
      }
     },
     "metadata": {}
    }
   ],
   "source": [
    "# Configure gmaps with API key.\n",
    "gmaps.configure(api_key=g_key)\n",
    "\n",
    "# Convert Humidity to float and store\n",
    "# Also, handle NaN values\n",
    "weather_df = weather_df.dropna()\n",
    "humidity = weather_df[\"Humidity\"].astype(float)\n",
    "\n",
    "# Store 'Latitude' and 'Longitude' into  locations. \n",
    "locations = weather_df[[\"Lat\", \"lng\"]].astype(float)\n",
    "\n",
    "# Create a humidity Heatmap layer\n",
    "# Plot Heatmap\n",
    "fig = gmaps.figure(center = [0,0] ,zoom_level = 2)\n",
    "# Create and add heat layer \n",
    "heat_layer = gmaps.heatmap_layer(locations, weights=humidity,\n",
    "                               dissipating=False, max_intensity=100,\n",
    "                               point_radius = 4)\n",
    "fig.add_layer(heat_layer)\n",
    "#Display figure\n",
    "fig\n"
   ]
  },
  {
   "cell_type": "code",
   "execution_count": null,
   "metadata": {},
   "outputs": [],
   "source": []
  },
  {
   "cell_type": "markdown",
   "metadata": {},
   "source": [
    "### Create new DataFrame fitting weather criteria\n",
    "* Narrow down the cities to fit weather conditions.\n",
    "* Drop any rows will null values."
   ]
  },
  {
   "cell_type": "code",
   "execution_count": 6,
   "metadata": {},
   "outputs": [
    {
     "output_type": "execute_result",
     "data": {
      "text/plain": [
       "                  City      Lat       lng  Max Temp  Humidity  Cloudiness  \\\n",
       "58       mar del plata -38.0023  -57.5575     71.60      78.0         0.0   \n",
       "203             noumea -22.2763  166.4572     79.00      88.0         0.0   \n",
       "216             namibe -15.1961   12.1522     78.22      77.0         0.0   \n",
       "260                bam  29.1060   58.3570     79.02      17.0         0.0   \n",
       "269            sakakah  29.9697   40.2064     78.80      11.0         0.0   \n",
       "305               ibra  22.6906   58.5334     76.12      33.0         0.0   \n",
       "445              asyut  27.1810   31.1837     76.32      19.0         0.0   \n",
       "468             rudbar  30.1500   62.6000     72.46      11.0         0.0   \n",
       "492  sao joao da barra -21.6403  -41.0511     77.00      65.0         0.0   \n",
       "515      joao pinheiro -17.7425  -46.1725     70.90      43.0         0.0   \n",
       "541   paso de carrasco -34.8603  -56.0522     73.40      56.0         0.0   \n",
       "\n",
       "     Wind Speed Country          Date  \n",
       "58         6.91      AR  1.619214e+09  \n",
       "203        2.30      NC  1.619215e+09  \n",
       "216        4.14      AO  1.619215e+09  \n",
       "260        9.64      IR  1.619215e+09  \n",
       "269        8.05      SA  1.619215e+09  \n",
       "305        0.29      OM  1.619215e+09  \n",
       "445        9.42      EG  1.619215e+09  \n",
       "468        6.69      AF  1.619215e+09  \n",
       "492        9.22      BR  1.619215e+09  \n",
       "515        2.15      BR  1.619215e+09  \n",
       "541        5.75      UY  1.619215e+09  "
      ],
      "text/html": "<div>\n<style scoped>\n    .dataframe tbody tr th:only-of-type {\n        vertical-align: middle;\n    }\n\n    .dataframe tbody tr th {\n        vertical-align: top;\n    }\n\n    .dataframe thead th {\n        text-align: right;\n    }\n</style>\n<table border=\"1\" class=\"dataframe\">\n  <thead>\n    <tr style=\"text-align: right;\">\n      <th></th>\n      <th>City</th>\n      <th>Lat</th>\n      <th>lng</th>\n      <th>Max Temp</th>\n      <th>Humidity</th>\n      <th>Cloudiness</th>\n      <th>Wind Speed</th>\n      <th>Country</th>\n      <th>Date</th>\n    </tr>\n  </thead>\n  <tbody>\n    <tr>\n      <th>58</th>\n      <td>mar del plata</td>\n      <td>-38.0023</td>\n      <td>-57.5575</td>\n      <td>71.60</td>\n      <td>78.0</td>\n      <td>0.0</td>\n      <td>6.91</td>\n      <td>AR</td>\n      <td>1.619214e+09</td>\n    </tr>\n    <tr>\n      <th>203</th>\n      <td>noumea</td>\n      <td>-22.2763</td>\n      <td>166.4572</td>\n      <td>79.00</td>\n      <td>88.0</td>\n      <td>0.0</td>\n      <td>2.30</td>\n      <td>NC</td>\n      <td>1.619215e+09</td>\n    </tr>\n    <tr>\n      <th>216</th>\n      <td>namibe</td>\n      <td>-15.1961</td>\n      <td>12.1522</td>\n      <td>78.22</td>\n      <td>77.0</td>\n      <td>0.0</td>\n      <td>4.14</td>\n      <td>AO</td>\n      <td>1.619215e+09</td>\n    </tr>\n    <tr>\n      <th>260</th>\n      <td>bam</td>\n      <td>29.1060</td>\n      <td>58.3570</td>\n      <td>79.02</td>\n      <td>17.0</td>\n      <td>0.0</td>\n      <td>9.64</td>\n      <td>IR</td>\n      <td>1.619215e+09</td>\n    </tr>\n    <tr>\n      <th>269</th>\n      <td>sakakah</td>\n      <td>29.9697</td>\n      <td>40.2064</td>\n      <td>78.80</td>\n      <td>11.0</td>\n      <td>0.0</td>\n      <td>8.05</td>\n      <td>SA</td>\n      <td>1.619215e+09</td>\n    </tr>\n    <tr>\n      <th>305</th>\n      <td>ibra</td>\n      <td>22.6906</td>\n      <td>58.5334</td>\n      <td>76.12</td>\n      <td>33.0</td>\n      <td>0.0</td>\n      <td>0.29</td>\n      <td>OM</td>\n      <td>1.619215e+09</td>\n    </tr>\n    <tr>\n      <th>445</th>\n      <td>asyut</td>\n      <td>27.1810</td>\n      <td>31.1837</td>\n      <td>76.32</td>\n      <td>19.0</td>\n      <td>0.0</td>\n      <td>9.42</td>\n      <td>EG</td>\n      <td>1.619215e+09</td>\n    </tr>\n    <tr>\n      <th>468</th>\n      <td>rudbar</td>\n      <td>30.1500</td>\n      <td>62.6000</td>\n      <td>72.46</td>\n      <td>11.0</td>\n      <td>0.0</td>\n      <td>6.69</td>\n      <td>AF</td>\n      <td>1.619215e+09</td>\n    </tr>\n    <tr>\n      <th>492</th>\n      <td>sao joao da barra</td>\n      <td>-21.6403</td>\n      <td>-41.0511</td>\n      <td>77.00</td>\n      <td>65.0</td>\n      <td>0.0</td>\n      <td>9.22</td>\n      <td>BR</td>\n      <td>1.619215e+09</td>\n    </tr>\n    <tr>\n      <th>515</th>\n      <td>joao pinheiro</td>\n      <td>-17.7425</td>\n      <td>-46.1725</td>\n      <td>70.90</td>\n      <td>43.0</td>\n      <td>0.0</td>\n      <td>2.15</td>\n      <td>BR</td>\n      <td>1.619215e+09</td>\n    </tr>\n    <tr>\n      <th>541</th>\n      <td>paso de carrasco</td>\n      <td>-34.8603</td>\n      <td>-56.0522</td>\n      <td>73.40</td>\n      <td>56.0</td>\n      <td>0.0</td>\n      <td>5.75</td>\n      <td>UY</td>\n      <td>1.619215e+09</td>\n    </tr>\n  </tbody>\n</table>\n</div>"
     },
     "metadata": {},
     "execution_count": 6
    }
   ],
   "source": [
    "# Narrow down the DataFrame to find your ideal weather condition.\n",
    "filtered_weather_df = weather_df\n",
    "\n",
    "# Drop any rows that don't contain all three conditions. Want to be sure the weather is ideal.\n",
    "\n",
    "# A max temperature lower than 80 degrees but higher than 70.\n",
    "filtered_weather_df = filtered_weather_df.loc[(filtered_weather_df[\"Max Temp\"] < 80) & (filtered_weather_df[\"Max Temp\"] > 70)]\n",
    "\n",
    "# Wind speed less than 10 mph.\n",
    "filtered_weather_df = filtered_weather_df.loc[filtered_weather_df[\"Wind Speed\"] < 10]\n",
    "\n",
    "# Zero cloudiness.\n",
    "filtered_weather_df = filtered_weather_df.loc[filtered_weather_df[\"Cloudiness\"] == 0]\n",
    "\n",
    "# Drop any rows with null values\n",
    "filtered_weather_df = filtered_weather_df.dropna()\n",
    "\n",
    "filtered_weather_df"
   ]
  },
  {
   "cell_type": "markdown",
   "metadata": {},
   "source": [
    "### Hotel Map\n",
    "* Store into variable named `hotel_df`.\n",
    "* Add a \"Hotel Name\" column to the DataFrame.\n",
    "* Set parameters to search for hotels with 5000 meters.\n",
    "* Hit the Google Places API for each city's coordinates.\n",
    "* Store the first Hotel result into the DataFrame.\n",
    "* Plot markers on top of the heatmap."
   ]
  },
  {
   "cell_type": "code",
   "execution_count": 13,
   "metadata": {},
   "outputs": [
    {
     "output_type": "stream",
     "name": "stdout",
     "text": [
      "Retrieving Results for Index 58: mar del plata.\n",
      "Missing field/result... skipping.\n",
      "------------\n",
      "Retrieving Results for Index 203: noumea.\n",
      "Closest hotel is Hôtel Le Lagon.\n",
      "------------\n",
      "Retrieving Results for Index 216: namibe.\n",
      "Closest hotel is Hotel Chik Chik Namibe.\n",
      "------------\n",
      "Retrieving Results for Index 260: bam.\n",
      "Closest hotel is Bam Tourist Hotel.\n",
      "------------\n",
      "Retrieving Results for Index 269: sakakah.\n",
      "Missing field/result... skipping.\n",
      "------------\n",
      "Retrieving Results for Index 305: ibra.\n",
      "Closest hotel is مزرعة راحة النفوس المنزفة.\n",
      "------------\n",
      "Retrieving Results for Index 445: asyut.\n",
      "Closest hotel is Florence Hotel Assiut.\n",
      "------------\n",
      "Retrieving Results for Index 468: rudbar.\n",
      "Missing field/result... skipping.\n",
      "------------\n",
      "Retrieving Results for Index 492: sao joao da barra.\n",
      "Missing field/result... skipping.\n",
      "------------\n",
      "Retrieving Results for Index 515: joao pinheiro.\n",
      "Closest hotel is Hotel Santos.\n",
      "------------\n",
      "Retrieving Results for Index 541: paso de carrasco.\n",
      "Closest hotel is Hotel Sofitel Montevideo Casino Carrasco and Spa.\n",
      "------------\n"
     ]
    }
   ],
   "source": [
    "hotel_df = filtered_weather_df\n",
    "\n",
    "# params dictionary to update each iteration\n",
    "params = {\n",
    "    \"radius\": 5000,\n",
    "    \"types\": \"lodging\",\n",
    "    \"key\": g_key\n",
    "}\n",
    "\n",
    "\n",
    "for index, row in hotel_df.iterrows():\n",
    "    # get lat, lng from df\n",
    "    lat = row[\"Lat\"]\n",
    "    lng = row[\"lng\"]\n",
    "\n",
    "    # change location each iteration while leaving original params in place\n",
    "    params[\"location\"] = f\"{lat},{lng}\"\n",
    "    \n",
    "    base_url = \"https://maps.googleapis.com/maps/api/place/nearbysearch/json\"\n",
    "\n",
    "    # assemble url and make API request\n",
    "    print(f\"Retrieving Results for Index {index}: {row['City']}.\")\n",
    "    response = requests.get(base_url, params=params).json()\n",
    "    # print(json.dumps(response, indent=4, sort_keys=True))\n",
    "    \n",
    "    # extract results\n",
    "    results = response['results']\n",
    "    \n",
    "    try:\n",
    "        print(f\"Closest hotel is {results[0]['name']}.\")\n",
    "        hotel_df.loc[index, 'Hotel Name'] = results[0]['name']\n",
    "        \n",
    "    except (KeyError, IndexError):\n",
    "        print(\"Missing field/result... skipping.\")\n",
    "        \n",
    "    print(\"------------\")"
   ]
  },
  {
   "cell_type": "code",
   "execution_count": 14,
   "metadata": {},
   "outputs": [
    {
     "output_type": "execute_result",
     "data": {
      "text/plain": [
       "                  City      Lat       lng  Max Temp  Humidity  Cloudiness  \\\n",
       "58       mar del plata -38.0023  -57.5575     71.60      78.0         0.0   \n",
       "203             noumea -22.2763  166.4572     79.00      88.0         0.0   \n",
       "216             namibe -15.1961   12.1522     78.22      77.0         0.0   \n",
       "260                bam  29.1060   58.3570     79.02      17.0         0.0   \n",
       "269            sakakah  29.9697   40.2064     78.80      11.0         0.0   \n",
       "305               ibra  22.6906   58.5334     76.12      33.0         0.0   \n",
       "445              asyut  27.1810   31.1837     76.32      19.0         0.0   \n",
       "468             rudbar  30.1500   62.6000     72.46      11.0         0.0   \n",
       "492  sao joao da barra -21.6403  -41.0511     77.00      65.0         0.0   \n",
       "515      joao pinheiro -17.7425  -46.1725     70.90      43.0         0.0   \n",
       "541   paso de carrasco -34.8603  -56.0522     73.40      56.0         0.0   \n",
       "\n",
       "     Wind Speed Country          Date  \\\n",
       "58         6.91      AR  1.619214e+09   \n",
       "203        2.30      NC  1.619215e+09   \n",
       "216        4.14      AO  1.619215e+09   \n",
       "260        9.64      IR  1.619215e+09   \n",
       "269        8.05      SA  1.619215e+09   \n",
       "305        0.29      OM  1.619215e+09   \n",
       "445        9.42      EG  1.619215e+09   \n",
       "468        6.69      AF  1.619215e+09   \n",
       "492        9.22      BR  1.619215e+09   \n",
       "515        2.15      BR  1.619215e+09   \n",
       "541        5.75      UY  1.619215e+09   \n",
       "\n",
       "                                           Hotel Name  \n",
       "58                                                NaN  \n",
       "203                                    Hôtel Le Lagon  \n",
       "216                            Hotel Chik Chik Namibe  \n",
       "260                                 Bam Tourist Hotel  \n",
       "269                                               NaN  \n",
       "305                         مزرعة راحة النفوس المنزفة  \n",
       "445                             Florence Hotel Assiut  \n",
       "468                                               NaN  \n",
       "492                                               NaN  \n",
       "515                                      Hotel Santos  \n",
       "541  Hotel Sofitel Montevideo Casino Carrasco and Spa  "
      ],
      "text/html": "<div>\n<style scoped>\n    .dataframe tbody tr th:only-of-type {\n        vertical-align: middle;\n    }\n\n    .dataframe tbody tr th {\n        vertical-align: top;\n    }\n\n    .dataframe thead th {\n        text-align: right;\n    }\n</style>\n<table border=\"1\" class=\"dataframe\">\n  <thead>\n    <tr style=\"text-align: right;\">\n      <th></th>\n      <th>City</th>\n      <th>Lat</th>\n      <th>lng</th>\n      <th>Max Temp</th>\n      <th>Humidity</th>\n      <th>Cloudiness</th>\n      <th>Wind Speed</th>\n      <th>Country</th>\n      <th>Date</th>\n      <th>Hotel Name</th>\n    </tr>\n  </thead>\n  <tbody>\n    <tr>\n      <th>58</th>\n      <td>mar del plata</td>\n      <td>-38.0023</td>\n      <td>-57.5575</td>\n      <td>71.60</td>\n      <td>78.0</td>\n      <td>0.0</td>\n      <td>6.91</td>\n      <td>AR</td>\n      <td>1.619214e+09</td>\n      <td>NaN</td>\n    </tr>\n    <tr>\n      <th>203</th>\n      <td>noumea</td>\n      <td>-22.2763</td>\n      <td>166.4572</td>\n      <td>79.00</td>\n      <td>88.0</td>\n      <td>0.0</td>\n      <td>2.30</td>\n      <td>NC</td>\n      <td>1.619215e+09</td>\n      <td>Hôtel Le Lagon</td>\n    </tr>\n    <tr>\n      <th>216</th>\n      <td>namibe</td>\n      <td>-15.1961</td>\n      <td>12.1522</td>\n      <td>78.22</td>\n      <td>77.0</td>\n      <td>0.0</td>\n      <td>4.14</td>\n      <td>AO</td>\n      <td>1.619215e+09</td>\n      <td>Hotel Chik Chik Namibe</td>\n    </tr>\n    <tr>\n      <th>260</th>\n      <td>bam</td>\n      <td>29.1060</td>\n      <td>58.3570</td>\n      <td>79.02</td>\n      <td>17.0</td>\n      <td>0.0</td>\n      <td>9.64</td>\n      <td>IR</td>\n      <td>1.619215e+09</td>\n      <td>Bam Tourist Hotel</td>\n    </tr>\n    <tr>\n      <th>269</th>\n      <td>sakakah</td>\n      <td>29.9697</td>\n      <td>40.2064</td>\n      <td>78.80</td>\n      <td>11.0</td>\n      <td>0.0</td>\n      <td>8.05</td>\n      <td>SA</td>\n      <td>1.619215e+09</td>\n      <td>NaN</td>\n    </tr>\n    <tr>\n      <th>305</th>\n      <td>ibra</td>\n      <td>22.6906</td>\n      <td>58.5334</td>\n      <td>76.12</td>\n      <td>33.0</td>\n      <td>0.0</td>\n      <td>0.29</td>\n      <td>OM</td>\n      <td>1.619215e+09</td>\n      <td>مزرعة راحة النفوس المنزفة</td>\n    </tr>\n    <tr>\n      <th>445</th>\n      <td>asyut</td>\n      <td>27.1810</td>\n      <td>31.1837</td>\n      <td>76.32</td>\n      <td>19.0</td>\n      <td>0.0</td>\n      <td>9.42</td>\n      <td>EG</td>\n      <td>1.619215e+09</td>\n      <td>Florence Hotel Assiut</td>\n    </tr>\n    <tr>\n      <th>468</th>\n      <td>rudbar</td>\n      <td>30.1500</td>\n      <td>62.6000</td>\n      <td>72.46</td>\n      <td>11.0</td>\n      <td>0.0</td>\n      <td>6.69</td>\n      <td>AF</td>\n      <td>1.619215e+09</td>\n      <td>NaN</td>\n    </tr>\n    <tr>\n      <th>492</th>\n      <td>sao joao da barra</td>\n      <td>-21.6403</td>\n      <td>-41.0511</td>\n      <td>77.00</td>\n      <td>65.0</td>\n      <td>0.0</td>\n      <td>9.22</td>\n      <td>BR</td>\n      <td>1.619215e+09</td>\n      <td>NaN</td>\n    </tr>\n    <tr>\n      <th>515</th>\n      <td>joao pinheiro</td>\n      <td>-17.7425</td>\n      <td>-46.1725</td>\n      <td>70.90</td>\n      <td>43.0</td>\n      <td>0.0</td>\n      <td>2.15</td>\n      <td>BR</td>\n      <td>1.619215e+09</td>\n      <td>Hotel Santos</td>\n    </tr>\n    <tr>\n      <th>541</th>\n      <td>paso de carrasco</td>\n      <td>-34.8603</td>\n      <td>-56.0522</td>\n      <td>73.40</td>\n      <td>56.0</td>\n      <td>0.0</td>\n      <td>5.75</td>\n      <td>UY</td>\n      <td>1.619215e+09</td>\n      <td>Hotel Sofitel Montevideo Casino Carrasco and Spa</td>\n    </tr>\n  </tbody>\n</table>\n</div>"
     },
     "metadata": {},
     "execution_count": 14
    }
   ],
   "source": [
    "hotel_df"
   ]
  },
  {
   "cell_type": "code",
   "execution_count": 15,
   "metadata": {},
   "outputs": [],
   "source": [
    "# NOTE: Do not change any of the code in this cell\n",
    "locations = hotel_df[[\"Lat\", \"lng\"]]\n",
    "markers = gmaps.marker_layer(locations)\n",
    "\n",
    "# Using the template add the hotel marks to the heatmap\n",
    "info_box_template = \"\"\"\n",
    "<dl>\n",
    "<dt>Name</dt><dd>{Hotel Name}</dd>\n",
    "<dt>City</dt><dd>{City}</dd>\n",
    "<dt>Country</dt><dd>{Country}</dd>\n",
    "</dl>\n",
    "\"\"\"\n",
    "# Store the DataFrame Row\n",
    "# NOTE: be sure to update with your DataFrame name\n",
    "hotel_info = [info_box_template.format(**row) for index, row in hotel_df.iterrows()]"
   ]
  },
  {
   "cell_type": "code",
   "execution_count": 16,
   "metadata": {},
   "outputs": [
    {
     "output_type": "display_data",
     "data": {
      "text/plain": "Figure(layout=FigureLayout(height='420px'))",
      "application/vnd.jupyter.widget-view+json": {
       "version_major": 2,
       "version_minor": 0,
       "model_id": "5ddc5425f0db42859a6184e04845bca0"
      }
     },
     "metadata": {}
    }
   ],
   "source": [
    "# Add marker layer ontop of heat map\n",
    "hotel_layer = gmaps.symbol_layer(\n",
    "    locations, fill_color='rgba(0, 150, 0, 0.4)',\n",
    "    stroke_color='rgba(0, 0, 150, 0.4)', scale=2,\n",
    "    info_box_content=hotel_info\n",
    ")\n",
    "\n",
    "# Display figure\n",
    "fig.add_layer(markers)\n",
    "fig.add_layer(hotel_layer)\n",
    "fig\n"
   ]
  },
  {
   "cell_type": "code",
   "execution_count": null,
   "metadata": {},
   "outputs": [],
   "source": []
  }
 ],
 "metadata": {
  "kernelspec": {
   "name": "python3612jvsc74a57bd047976e75953db9bf3fc9503b567a7c052c8a04485919a8a471f6364d94c3d24c",
   "display_name": "Python 3.6.12 64-bit ('PythonData': conda)"
  },
  "language_info": {
   "codemirror_mode": {
    "name": "ipython",
    "version": 3
   },
   "file_extension": ".py",
   "mimetype": "text/x-python",
   "name": "python",
   "nbconvert_exporter": "python",
   "pygments_lexer": "ipython3",
   "version": "3.6.12"
  },
  "latex_envs": {
   "LaTeX_envs_menu_present": true,
   "autoclose": false,
   "autocomplete": true,
   "bibliofile": "biblio.bib",
   "cite_by": "apalike",
   "current_citInitial": 1,
   "eqLabelWithNumbers": true,
   "eqNumInitial": 1,
   "hotkeys": {
    "equation": "Ctrl-E",
    "itemize": "Ctrl-I"
   },
   "labels_anchors": false,
   "latex_user_defs": false,
   "report_style_numbering": false,
   "user_envs_cfg": false
  }
 },
 "nbformat": 4,
 "nbformat_minor": 4
}